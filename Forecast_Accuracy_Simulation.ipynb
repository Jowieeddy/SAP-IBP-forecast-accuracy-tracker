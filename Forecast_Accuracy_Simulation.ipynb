{
 "cells": [
  {
   "cell_type": "markdown",
   "id": "c56e53bd-74d9-41e6-9c06-cec54c02a135",
   "metadata": {},
   "source": [
    "# SAP IBP Forecast Accuracy Tracker (Scenario C – Carbon Tax Simulation)\n",
    "\n",
    "This simulation analyzes forecast accuracy and carbon tax exposure across three SKUs over 24 months. It replicates key KPIs from SAP Integrated Business Planning (IBP) and ESG-aligned decision support.\n"
   ]
  },
  {
   "cell_type": "markdown",
   "id": "039031bb-4317-4dc0-9a6f-406ff63c7802",
   "metadata": {},
   "source": [
    "import pandas as pd\n",
    "import matplotlib.pyplot as plt\n",
    "import seaborn as sns\n",
    "\n",
    "sns.set(style=\"whitegrid\")"
   ]
  },
  {
   "cell_type": "code",
   "execution_count": null,
   "id": "7d2b4f48-5cd0-4d6d-9bf4-92ec09eda9bf",
   "metadata": {},
   "outputs": [],
   "source": [
    "## 📥 Step 1: Load Forecast Dataset"
   ]
  },
  {
   "cell_type": "code",
   "execution_count": null,
   "id": "9ca93238-1040-4788-90fd-09837880edb0",
   "metadata": {},
   "outputs": [],
   "source": [
    "df = pd.read_csv(\"Forecast_Accuracy_Simulation_With_Carbon.csv\")\n",
    "df.head()"
   ]
  },
  {
   "cell_type": "code",
   "execution_count": null,
   "id": "b95a631b-ca29-4291-978c-9a4b5cbeb802",
   "metadata": {},
   "outputs": [],
   "source": [
    "## 📊 Step 2: KPI Calculation by SKU\n",
    "\n",
    "We calculate MAPE, Bias, and Forecast Accuracy based on 24-month history per SKU."
   ]
  },
  {
   "cell_type": "code",
   "execution_count": null,
   "id": "8cd492c5-99b1-4d13-970a-647d4028092e",
   "metadata": {},
   "outputs": [],
   "source": [
    "kpi_summary = df.groupby('SKU').agg({\n",
    "    'APE': 'mean',\n",
    "    'Error': 'mean'\n",
    "}).reset_index()\n",
    "\n",
    "kpi_summary['Forecast Accuracy (%)'] = (1 - kpi_summary['APE']) * 100\n",
    "kpi_summary['MAPE (%)'] = kpi_summary['APE'] * 100\n",
    "\n",
    "kpi_summary = kpi_summary[['SKU', 'MAPE (%)', 'Error', 'Forecast Accuracy (%)']]\n",
    "kpi_summary.rename(columns={'Error': 'Bias'}, inplace=True)\n",
    "kpi_summary"
   ]
  },
  {
   "cell_type": "code",
   "execution_count": null,
   "id": "2f6f479b-6830-472c-b721-39a2cc59f6b2",
   "metadata": {},
   "outputs": [],
   "source": [
    "## 📈 Step 3: Forecast Accuracy Visualization"
   ]
  },
  {
   "cell_type": "code",
   "execution_count": null,
   "id": "2d1a4f7a-1a43-4c6a-86ff-950bda773bca",
   "metadata": {},
   "outputs": [],
   "source": [
    "plt.figure(figsize=(6, 4))\n",
    "sns.barplot(data=kpi_summary, x='SKU', y='Forecast Accuracy (%)', palette='Blues_d')\n",
    "plt.title('Forecast Accuracy by SKU')\n",
    "plt.ylabel('Accuracy (%)')\n",
    "plt.ylim(0, 100)\n",
    "plt.tight_layout()\n",
    "plt.show()"
   ]
  },
  {
   "cell_type": "code",
   "execution_count": null,
   "id": "7cac111e-e82e-41f6-8784-400af81bbba7",
   "metadata": {},
   "outputs": [],
   "source": [
    "## 🌱 Step 4: Forecast-Driven Carbon Cost\n",
    "\n",
    "We model carbon tax exposure based on forecasted production:\n",
    "- Emissions = 0.5 kg per unit\n",
    "- Carbon tax = $50 per ton (i.e., $0.05 per kg)"
   ]
  },
  {
   "cell_type": "code",
   "execution_count": null,
   "id": "abe044eb-15e3-44db-9d6c-75e241dd686e",
   "metadata": {},
   "outputs": [],
   "source": [
    "carbon_summary = df.groupby('SKU').agg({\n",
    "    'Emissions (kg)': 'sum',\n",
    "    'Carbon Cost ($)': 'sum'\n",
    "}).reset_index()\n",
    "\n",
    "carbon_summary['Carbon Cost ($)'] = carbon_summary['Carbon Cost ($)'].round(2)\n",
    "carbon_summary"
   ]
  },
  {
   "cell_type": "code",
   "execution_count": null,
   "id": "986da249-4120-41d7-9f9f-53f5ae8ca2bf",
   "metadata": {},
   "outputs": [],
   "source": [
    "plt.figure(figsize=(6, 4))\n",
    "sns.barplot(data=carbon_summary, x='SKU', y='Carbon Cost ($)', palette='Reds')\n",
    "plt.title('Forecast-Driven Carbon Cost by SKU')\n",
    "plt.ylabel('Cost ($)')\n",
    "plt.tight_layout()\n",
    "plt.show()"
   ]
  },
  {
   "cell_type": "code",
   "execution_count": null,
   "id": "9081608f-68dc-4399-93ff-ae6f50704060",
   "metadata": {},
   "outputs": [],
   "source": [
    "## 💡 Strategic Insight\n",
    "\n",
    "SKU_B shows the highest carbon cost, indicating over-forecasting is driving unnecessary emissions exposure. SAP IBP users could apply forecast segmentation, override rules, or sustainability buffers to reduce this risk.\n"
   ]
  }
 ],
 "metadata": {
  "kernelspec": {
   "display_name": "Python 3 (ipykernel)",
   "language": "python",
   "name": "python3"
  },
  "language_info": {
   "codemirror_mode": {
    "name": "ipython",
    "version": 3
   },
   "file_extension": ".py",
   "mimetype": "text/x-python",
   "name": "python",
   "nbconvert_exporter": "python",
   "pygments_lexer": "ipython3",
   "version": "3.13.5"
  }
 },
 "nbformat": 4,
 "nbformat_minor": 5
}
